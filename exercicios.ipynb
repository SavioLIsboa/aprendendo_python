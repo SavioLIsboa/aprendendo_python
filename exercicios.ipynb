{
  "nbformat": 4,
  "nbformat_minor": 0,
  "metadata": {
    "colab": {
      "provenance": [],
      "authorship_tag": "ABX9TyN/Y6aMtcU7RuPTguJd9UpY",
      "include_colab_link": true
    },
    "kernelspec": {
      "name": "python3",
      "display_name": "Python 3"
    },
    "language_info": {
      "name": "python"
    }
  },
  "cells": [
    {
      "cell_type": "markdown",
      "metadata": {
        "id": "view-in-github",
        "colab_type": "text"
      },
      "source": [
        "<a href=\"https://colab.research.google.com/github/SavioLIsboa/aprendendo_python/blob/main/exercicios.ipynb\" target=\"_parent\"><img src=\"https://colab.research.google.com/assets/colab-badge.svg\" alt=\"Open In Colab\"/></a>"
      ]
    },
    {
      "cell_type": "markdown",
      "source": [
        "1 - Faça um Programa que mostre a mensagem \"Alo mundo\" na tela.\n"
      ],
      "metadata": {
        "id": "aIBeXEY37UKk"
      }
    },
    {
      "cell_type": "code",
      "execution_count": null,
      "metadata": {
        "colab": {
          "base_uri": "https://localhost:8080/"
        },
        "id": "WcWze3RV6kE4",
        "outputId": "f5817dae-12ed-44c0-868f-a95fcc74b8cb"
      },
      "outputs": [
        {
          "output_type": "stream",
          "name": "stdout",
          "text": [
            "Alô Mundo\n"
          ]
        }
      ],
      "source": [
        "print('Alô Mundo')\n",
        "\n"
      ]
    },
    {
      "cell_type": "markdown",
      "source": [
        "2 - aça um Programa que peça um número e então mostre a mensagem O número informado foi [número].\n",
        "\n"
      ],
      "metadata": {
        "id": "8fCr5RDA7Yot"
      }
    },
    {
      "cell_type": "code",
      "source": [
        "va1 = float(input('Insira um número:'))\n",
        "print(f'O número informado foi:  {va1}')"
      ],
      "metadata": {
        "colab": {
          "base_uri": "https://localhost:8080/"
        },
        "id": "rcZ7It6W7Ppu",
        "outputId": "4cb7e2ed-bb7a-4717-8dbf-0f0b8af1837b"
      },
      "execution_count": null,
      "outputs": [
        {
          "output_type": "stream",
          "name": "stdout",
          "text": [
            "Insira um número:2\n",
            "O número informado foi:  2.0\n"
          ]
        }
      ]
    },
    {
      "cell_type": "markdown",
      "source": [
        "3 - Faça um Programa que peça dois números e imprima a soma.\n"
      ],
      "metadata": {
        "id": "yJDyCj8SDyvu"
      }
    },
    {
      "cell_type": "code",
      "source": [
        "v1 = int(input('Insira um número:'))\n",
        "v2 = int(input('Insira um número:'))\n",
        "print(f'A soma dos valores é: {v1+v2}')\n"
      ],
      "metadata": {
        "id": "q8QGEebgD3Bb",
        "colab": {
          "base_uri": "https://localhost:8080/"
        },
        "outputId": "83ef5c4e-9829-4ceb-9a71-f1e708fb05dd"
      },
      "execution_count": null,
      "outputs": [
        {
          "output_type": "stream",
          "name": "stdout",
          "text": [
            "Insira um número:845\n",
            "Insira um número:9456\n",
            "A soma dos valores é: 10301\n"
          ]
        }
      ]
    },
    {
      "cell_type": "markdown",
      "source": [
        "4-Faça um Programa que peça as 4 notas bimestrais e mostre a média."
      ],
      "metadata": {
        "id": "TOiFJFigL2P4"
      }
    },
    {
      "cell_type": "code",
      "source": [
        "n1 = int(input('Insira a nota 1:'))\n",
        "n2 = int(input('Insira a nota 2:'))\n",
        "n3 = int(input('Insira a nota 3:'))\n",
        "n4 = int(input('Insira a nota 4:'))\n",
        "\n",
        "media = (n1+n2+n3+n4) /4\n",
        "\n",
        "print(f'A média é: {media}')\n",
        "\n",
        "if media >= 5:\n",
        "    print('Aluno Aprovado')\n",
        "else:\n",
        "    print('Aluno Reprovado')"
      ],
      "metadata": {
        "colab": {
          "base_uri": "https://localhost:8080/"
        },
        "id": "9r1uMbP1L4Eg",
        "outputId": "ea9ebb5f-057c-4228-cdf5-33cb71c3f07d"
      },
      "execution_count": null,
      "outputs": [
        {
          "output_type": "stream",
          "name": "stdout",
          "text": [
            "Insira a nota 1:5\n",
            "Insira a nota 2:5\n",
            "Insira a nota 3:5\n",
            "Insira a nota 4:4\n",
            "A média é: 4.75\n",
            "Aluno Reprovado\n"
          ]
        }
      ]
    },
    {
      "cell_type": "markdown",
      "source": [
        "5-Faça um Programa que converta metros para centímetros."
      ],
      "metadata": {
        "id": "XVezxevJOvGA"
      }
    },
    {
      "cell_type": "code",
      "source": [
        "metro = float(input(\"Insira um valor em metros:\"))\n",
        "centimetros = metro * 100\n",
        "print(metro, 'metros equivalem á:',centimetros, \"centímetros\")"
      ],
      "metadata": {
        "colab": {
          "base_uri": "https://localhost:8080/"
        },
        "id": "Tz5UK2t2Ov9W",
        "outputId": "660bd345-83f8-4655-9065-d79cffcacb2d"
      },
      "execution_count": null,
      "outputs": [
        {
          "output_type": "stream",
          "name": "stdout",
          "text": [
            "Insira um valor em metros:10\n",
            "10.0 metros equivalem á: 1000.0 centímetros\n"
          ]
        }
      ]
    },
    {
      "cell_type": "markdown",
      "source": [
        "6-Faça um Programa que peça o raio de um círculo, calcule e mostre sua área."
      ],
      "metadata": {
        "id": "77aLlre5RmCV"
      }
    },
    {
      "cell_type": "code",
      "source": [
        "import math\n",
        "\n",
        "\n",
        "raio = float(input('Informe o ráio do círculo: '))\n",
        "area = math.pi * (raio ** 2)\n",
        "print(\"A área do círculo é de:\", area)\n"
      ],
      "metadata": {
        "colab": {
          "base_uri": "https://localhost:8080/"
        },
        "id": "k3vwzMhyRn1Q",
        "outputId": "93e64a97-1bd2-4b69-80d8-894063785c50"
      },
      "execution_count": null,
      "outputs": [
        {
          "output_type": "stream",
          "name": "stdout",
          "text": [
            "Informe o ráio do círculo: 55\n",
            "A área do círculo é de: 9503.317777109125\n"
          ]
        }
      ]
    },
    {
      "cell_type": "markdown",
      "source": [
        "7-Faça um Programa que calcule a área de um quadrado, em seguida mostre o dobro desta área para o usuário.\n",
        "\n",
        "\n"
      ],
      "metadata": {
        "id": "LsGCFfsvdPSK"
      }
    },
    {
      "cell_type": "code",
      "source": [
        "lado = float(input(\"Dígite o tamanho de um dos lados do quadrado: \"))\n",
        "\n",
        "area = lado ** 2\n",
        "area_em_dobro = area * 2\n",
        "print(\"O dobro da área\",lado, \"é:\" , area_em_dobro )\n"
      ],
      "metadata": {
        "colab": {
          "base_uri": "https://localhost:8080/"
        },
        "id": "uc2SCce3XbwO",
        "outputId": "59ac8d06-c1d4-4baf-9494-21af617db7c1"
      },
      "execution_count": 18,
      "outputs": [
        {
          "output_type": "stream",
          "name": "stdout",
          "text": [
            "Dígite o tamanho de um dos lados do quadrado: 562\n",
            "O dobro da área 562.0 é: 631688.0\n"
          ]
        }
      ]
    },
    {
      "cell_type": "markdown",
      "source": [
        "8-Faça um Programa que pergunte quanto você ganha por hora e o número de horas trabalhadas no mês. Calcule e mostre o total do seu salário no referido mês."
      ],
      "metadata": {
        "id": "AyI5p8HWddlZ"
      }
    },
    {
      "cell_type": "code",
      "source": [
        "salario_dia = float(input(\"Digíte seu salário por dia: \"))\n",
        "dias_trabalhados_mes = float(input(\"Agora digite o número de dias trabalhados no mês: \"))\n",
        "print(\"O ganho total nesse mês foi:\", salario_dia * dias_trabalhados_mes )"
      ],
      "metadata": {
        "colab": {
          "base_uri": "https://localhost:8080/"
        },
        "id": "9_B4zCpkdn2W",
        "outputId": "a182f945-d9d3-49ce-8cf7-78c65c76c1c0"
      },
      "execution_count": 21,
      "outputs": [
        {
          "output_type": "stream",
          "name": "stdout",
          "text": [
            "Digíte seu salário por dia: 120\n",
            "Agora digite o número de dias trabalhados no mês: 26\n",
            "O ganho total nesse mês foi: 3120.0\n"
          ]
        }
      ]
    },
    {
      "cell_type": "markdown",
      "source": [
        "9-Faça um Programa que peça a temperatura em graus Fahrenheit, transforme e mostre a temperatura em graus Celsius"
      ],
      "metadata": {
        "id": "jIF8WwR6f2U0"
      }
    },
    {
      "cell_type": "code",
      "source": [
        "fahrenheit = float(input(\"Digite a temperatura em fahrenheit: \"))\n",
        "celsius = ((fahrenheit - 32) /1.8)\n",
        "print(fahrenheit, \"graus em fahrenheit equivalem á\", celsius, \" graus em celsius.\")"
      ],
      "metadata": {
        "colab": {
          "base_uri": "https://localhost:8080/"
        },
        "id": "7jQF5Qujf7jh",
        "outputId": "126dc954-24f7-4bf7-f7d2-4611a4816622"
      },
      "execution_count": 27,
      "outputs": [
        {
          "output_type": "stream",
          "name": "stdout",
          "text": [
            "Digite a temperatura em fahrenheit: 90\n",
            "90.0 graus em fahrenheit equivalem á 32.22222222222222  graus em celsius.\n"
          ]
        }
      ]
    },
    {
      "cell_type": "code",
      "source": [],
      "metadata": {
        "id": "0qGLCYslg4PC"
      },
      "execution_count": null,
      "outputs": []
    }
  ]
}